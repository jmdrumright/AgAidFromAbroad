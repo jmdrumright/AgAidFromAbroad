{
 "cells": [
  {
   "cell_type": "markdown",
   "id": "1c04dfbd",
   "metadata": {},
   "source": [
    "# CROP YIELD DATA"
   ]
  },
  {
   "cell_type": "markdown",
   "id": "dde95209",
   "metadata": {},
   "source": [
    "Source: https://www.nass.usda.gov/Statistics_by_Subject/"
   ]
  },
  {
   "cell_type": "code",
   "execution_count": null,
   "id": "2930e24d",
   "metadata": {},
   "outputs": [],
   "source": [
    "import pandas as pd\n",
    "pd.set_option('display.max_rows', 500)\n",
    "pd.set_option('display.max_columns', 500)\n",
    "pd.set_option('display.width', 1000)\n",
    "import numpy as np\n",
    "import matplotlib.pyplot as plt\n",
    "%matplotlib inline\n",
    "import seaborn as sns\n",
    "import requests as re"
   ]
  },
  {
   "cell_type": "markdown",
   "id": "4dd71c9e",
   "metadata": {},
   "source": [
    "https://www.geeksforgeeks.org/read-multiple-csv-files-into-separate-dataframes-in-python/\n",
    "- Too lazy to load each CSV manually, found a for loop to load all csvs into a list of dfs"
   ]
  },
  {
   "cell_type": "code",
   "execution_count": null,
   "id": "9b479d22",
   "metadata": {},
   "outputs": [],
   "source": [
    "# assign dataset names\n",
    "list_of_names = ['apples', 'blueberries', 'cattle', 'cherries', 'lamb', 'lemons', 'lettuce', 'oranges', 'potatoes', 'sweetpotatoes']\n",
    " \n",
    "# create empty list\n",
    "df_list = []\n",
    " \n",
    "# append datasets into the list\n",
    "for i in range(len(list_of_names)):\n",
    "    temp_df = pd.read_csv(\"../data_yields/\"+list_of_names[i]+\".csv\")\n",
    "    df_list.append(temp_df)"
   ]
  },
  {
   "cell_type": "code",
   "execution_count": null,
   "id": "00b967be",
   "metadata": {},
   "outputs": [],
   "source": [
    "df[0] # loop works, index range up to [9]=sweetpotatoes"
   ]
  }
 ],
 "metadata": {
  "kernelspec": {
   "display_name": "Python 3 (ipykernel)",
   "language": "python",
   "name": "python3"
  },
  "language_info": {
   "codemirror_mode": {
    "name": "ipython",
    "version": 3
   },
   "file_extension": ".py",
   "mimetype": "text/x-python",
   "name": "python",
   "nbconvert_exporter": "python",
   "pygments_lexer": "ipython3",
   "version": "3.9.7"
  }
 },
 "nbformat": 4,
 "nbformat_minor": 5
}
