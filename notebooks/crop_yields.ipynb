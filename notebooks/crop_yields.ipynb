{
 "cells": [
  {
   "cell_type": "markdown",
   "id": "1c04dfbd",
   "metadata": {},
   "source": [
    "# CROP YIELD DATA"
   ]
  },
  {
   "cell_type": "markdown",
   "id": "4e360f95",
   "metadata": {},
   "source": [
    "## First I will combine all crop yield data into one DataFrame (yield_df) and import that table into Postgres to filter across all 7 data sets. Then I will pull those SQL queries back here to make visualizations.\n",
    "- This can all be done in Python but I want to practice more SQL and get used to how SQL and Python connect to each other"
   ]
  },
  {
   "cell_type": "code",
   "execution_count": 1,
   "id": "2930e24d",
   "metadata": {},
   "outputs": [],
   "source": [
    "import pandas as pd\n",
    "pd.set_option('display.max_rows', 500)\n",
    "pd.set_option('display.max_columns', 500)\n",
    "pd.set_option('display.width', 1000)\n",
    "import numpy as np\n",
    "import matplotlib.pyplot as plt\n",
    "%matplotlib inline\n",
    "import seaborn as sns\n",
    "import requests as re\n",
    "import glob\n",
    "import os"
   ]
  },
  {
   "cell_type": "markdown",
   "id": "b2e52b45",
   "metadata": {},
   "source": [
    "Import multiple CSVs and concate into one DataFrame:\n",
    "https://stackoverflow.com/questions/20906474/import-multiple-csv-files-into-pandas-and-concatenate-into-one-dataframe"
   ]
  },
  {
   "cell_type": "code",
   "execution_count": 2,
   "id": "a2a0c809",
   "metadata": {},
   "outputs": [],
   "source": [
    "path = r'C:\\Users\\Jasmine\\Documents\\NSS\\Projects\\AgAidFromAbroad\\data_yields' # use your path\n",
    "all_files = glob.glob(os.path.join(path, \"*.csv\")) # advisable to use os.path.join as this makes concatenation OS independent\n",
    "\n",
    "df_from_each_file = (pd.read_csv(f) for f in all_files)\n",
    "yield_df   = pd.concat(df_from_each_file, ignore_index=True)"
   ]
  },
  {
   "cell_type": "code",
   "execution_count": null,
   "id": "6f15f43f",
   "metadata": {},
   "outputs": [],
   "source": [
    "# Check all files imported into one\n",
    "yield_df"
   ]
  },
  {
   "cell_type": "code",
   "execution_count": 5,
   "id": "25eb13dd",
   "metadata": {},
   "outputs": [],
   "source": [
    "# Save it to the same folder\n",
    "yield_df.to_csv(r'C:\\Users\\Jasmine\\Documents\\NSS\\Projects\\AgAidFromAbroad\\data_yields\\yield_all.csv', index=False)"
   ]
  },
  {
   "cell_type": "markdown",
   "id": "00d522aa",
   "metadata": {},
   "source": [
    "I will analyze this master crop yield CSV in SQL and replicate the queries to below"
   ]
  },
  {
   "cell_type": "markdown",
   "id": "e8bbdf6f",
   "metadata": {},
   "source": [
    "### How does the number of TLC approvals compare to the number of H-2A visas issued?"
   ]
  }
 ],
 "metadata": {
  "kernelspec": {
   "display_name": "Python 3 (ipykernel)",
   "language": "python",
   "name": "python3"
  },
  "language_info": {
   "codemirror_mode": {
    "name": "ipython",
    "version": 3
   },
   "file_extension": ".py",
   "mimetype": "text/x-python",
   "name": "python",
   "nbconvert_exporter": "python",
   "pygments_lexer": "ipython3",
   "version": "3.9.7"
  }
 },
 "nbformat": 4,
 "nbformat_minor": 5
}
