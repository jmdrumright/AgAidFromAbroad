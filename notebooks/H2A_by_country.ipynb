{
 "cells": [
  {
   "cell_type": "markdown",
   "id": "8786ff1e",
   "metadata": {},
   "source": [
    "# H-2A VISAS ISSUED BY COUNTRY (2010-2020)\n",
    "- Source: https://travel.state.gov/content/travel/en/legal/visa-law0/visa-statistics/nonimmigrant-visa-statistics.html\n",
    "- Datasets were cleaned in Excel to remove irrelevant rows (eg. subtotals and blank rows)"
   ]
  },
  {
   "cell_type": "code",
   "execution_count": null,
   "id": "188e2e2e",
   "metadata": {},
   "outputs": [],
   "source": [
    "import pandas as pd\n",
    "pd.set_option('display.max_rows', 500)\n",
    "pd.set_option('display.max_columns', 500)\n",
    "pd.set_option('display.width', 1000)\n",
    "import numpy as np\n",
    "import matplotlib.pyplot as plt\n",
    "%matplotlib inline\n",
    "import seaborn as sns\n",
    "import requests as re"
   ]
  },
  {
   "cell_type": "markdown",
   "id": "f301a35e",
   "metadata": {},
   "source": [
    "Extra resource in case I want to read in a specific range:\n",
    "- https://stackoverflow.com/questions/38560748/python-pandas-dataframe-reading-exact-specified-range-in-an-excel-sheet"
   ]
  },
  {
   "cell_type": "markdown",
   "id": "190494cb",
   "metadata": {},
   "source": [
    "## H-2A Visas Issued by Country FY2010"
   ]
  },
  {
   "cell_type": "code",
   "execution_count": null,
   "id": "ae2b60af",
   "metadata": {},
   "outputs": [],
   "source": [
    "# Read in 2010\n",
    "df_2010 = pd.read_excel('../data_visasbycountry/FY2010_H2A_by_country_clean.xls')\n",
    "df_2010['Year'] = '2010'\n",
    "df_2010.head()"
   ]
  },
  {
   "cell_type": "code",
   "execution_count": null,
   "id": "f2ee39e7",
   "metadata": {},
   "outputs": [],
   "source": [
    "# Total H-2A visas issued in 2010\n",
    "total_2010 = df_2010['H-2A'].sum()\n",
    "total_2010"
   ]
  },
  {
   "cell_type": "code",
   "execution_count": null,
   "id": "df3dc684",
   "metadata": {},
   "outputs": [],
   "source": [
    "# Subset 3 columns: Country, H-2A, Total Visas & sort by top 5 countries with most H-2A visas\n",
    "subset_2010 = df_2010[['Country', 'Year', 'H-2A', 'Total Visas']]\n",
    "top5_2010 = subset_2010.sort_values(by=['H-2A'], ascending=False).head(5)\n",
    "top5_2010"
   ]
  },
  {
   "cell_type": "markdown",
   "id": "290e21ed",
   "metadata": {},
   "source": [
    "## H-2A Visas Issued by Country FY2011"
   ]
  },
  {
   "cell_type": "code",
   "execution_count": null,
   "id": "0b3c26fe",
   "metadata": {},
   "outputs": [],
   "source": [
    "# Read in 2011\n",
    "df_2011 = pd.read_excel('../data_visasbycountry/FY2011_H2A_by_country_clean.xls')\n",
    "df_2011['Year'] = '2011'\n",
    "df_2011.head()"
   ]
  },
  {
   "cell_type": "code",
   "execution_count": null,
   "id": "af05af4d",
   "metadata": {},
   "outputs": [],
   "source": [
    "# Total H-2A visas issued in 2011\n",
    "total_2011 = df_2011['H-2A'].sum()\n",
    "total_2011"
   ]
  },
  {
   "cell_type": "code",
   "execution_count": null,
   "id": "80f5292a",
   "metadata": {},
   "outputs": [],
   "source": [
    "# Subset 3 columns: Country, H-2A, Total Visas & sort by top 5 countries with most H-2A visas\n",
    "subset_2011 = df_2011[['Country', 'Year', 'H-2A', 'Total Visas']]\n",
    "top5_2011 = subset_2011.sort_values(by=['H-2A'], ascending=False).head(5)\n",
    "top5_2011"
   ]
  },
  {
   "cell_type": "markdown",
   "id": "a6e27361",
   "metadata": {},
   "source": [
    "## H-2A Visas Issued by Country FY2012"
   ]
  },
  {
   "cell_type": "code",
   "execution_count": null,
   "id": "421299c0",
   "metadata": {},
   "outputs": [],
   "source": [
    "# Read in 2012\n",
    "df_2012 = pd.read_excel('../data_visasbycountry/FY2012_H2A_by_country_clean.xls')\n",
    "df_2012['Year'] = '2012'\n",
    "df_2012.head()"
   ]
  },
  {
   "cell_type": "code",
   "execution_count": null,
   "id": "175f6c1a",
   "metadata": {},
   "outputs": [],
   "source": [
    "# Total H-2A visas issued in 2012\n",
    "total_2012 = df_2012['H-2A'].sum()\n",
    "total_2012"
   ]
  },
  {
   "cell_type": "code",
   "execution_count": null,
   "id": "bb35aec0",
   "metadata": {},
   "outputs": [],
   "source": [
    "# Subset 3 columns: Country, H-2A, Total Visas & sort by top 5 countries with most H-2A visas\n",
    "subset_2012 = df_2012[['Country', 'Year', 'H-2A', 'Total Visas']]\n",
    "top5_2012 = subset_2012.sort_values(by=['H-2A'], ascending=False).head(5)\n",
    "top5_2012"
   ]
  },
  {
   "cell_type": "markdown",
   "id": "4178cbe4",
   "metadata": {},
   "source": [
    "## H-2A Visas Issued by Country FY2013"
   ]
  },
  {
   "cell_type": "code",
   "execution_count": null,
   "id": "88501f8a",
   "metadata": {},
   "outputs": [],
   "source": [
    "# Read in 2013\n",
    "df_2013 = pd.read_excel('../data_visasbycountry/FY2013_H2A_by_country_clean.xls')\n",
    "df_2013['Year'] = '2013'\n",
    "df_2013.head()"
   ]
  },
  {
   "cell_type": "code",
   "execution_count": null,
   "id": "4d37a733",
   "metadata": {},
   "outputs": [],
   "source": [
    "# Total H-2A visas issued in 2013\n",
    "total_2013 = df_2013['H-2A'].sum()\n",
    "total_2013"
   ]
  },
  {
   "cell_type": "code",
   "execution_count": null,
   "id": "4b22008e",
   "metadata": {},
   "outputs": [],
   "source": [
    "# Subset 3 columns: Country, H-2A, Total Visas & sort by top 5 countries with most H-2A visas\n",
    "subset_2013 = df_2013[['Country', 'Year', 'H-2A', 'Total Visas']]\n",
    "top5_2013 = subset_2013.sort_values(by=['H-2A'], ascending=False).head(5)\n",
    "top5_2013"
   ]
  },
  {
   "cell_type": "markdown",
   "id": "bbbca954",
   "metadata": {},
   "source": [
    "## H-2A Visas Issued by Country FY2014"
   ]
  },
  {
   "cell_type": "code",
   "execution_count": null,
   "id": "04304956",
   "metadata": {},
   "outputs": [],
   "source": [
    "# Read in 2014\n",
    "df_2014 = pd.read_excel('../data_visasbycountry/FY2014_H2A_by_country_clean.xls')\n",
    "df_2014['Year'] = '2014'\n",
    "df_2014.head()"
   ]
  },
  {
   "cell_type": "code",
   "execution_count": null,
   "id": "54d4251b",
   "metadata": {},
   "outputs": [],
   "source": [
    "# Total H-2A visas issued in 2014\n",
    "total_2014 = df_2014['H-2A'].sum()\n",
    "total_2014"
   ]
  },
  {
   "cell_type": "code",
   "execution_count": null,
   "id": "2d177bc4",
   "metadata": {},
   "outputs": [],
   "source": [
    "# Subset 3 columns: Country, H-2A, Total Visas & sort by top 5 countries with most H-2A visas\n",
    "subset_2014 = df_2014[['Country', 'Year', 'H-2A', 'Total Visas']]\n",
    "top5_2014 = subset_2014.sort_values(by=['H-2A'], ascending=False).head(5)\n",
    "top5_2014"
   ]
  },
  {
   "cell_type": "markdown",
   "id": "266e22d0",
   "metadata": {},
   "source": [
    "## H-2A Visas Issued by Country FY2015"
   ]
  },
  {
   "cell_type": "code",
   "execution_count": null,
   "id": "e8d69aa2",
   "metadata": {},
   "outputs": [],
   "source": [
    "# Read in 2015\n",
    "df_2015 = pd.read_excel('../data_visasbycountry/FY2015_H2A_by_country_clean.xls')\n",
    "df_2015['Year'] = '2015'\n",
    "df_2015.head()"
   ]
  },
  {
   "cell_type": "code",
   "execution_count": null,
   "id": "8d71941b",
   "metadata": {},
   "outputs": [],
   "source": [
    "# Total H-2A visas issued in 2015\n",
    "total_2015 = df_2015['H-2A'].sum()\n",
    "total_2015"
   ]
  },
  {
   "cell_type": "code",
   "execution_count": null,
   "id": "95ecc58a",
   "metadata": {},
   "outputs": [],
   "source": [
    "# Subset 3 columns: Country, H-2A, Total Visas & sort by top 5 countries with most H-2A visas\n",
    "subset_2015 = df_2015[['Country', 'Year', 'H-2A', 'Total Visas']]\n",
    "top5_2015 = subset_2015.sort_values(by=['H-2A'], ascending=False).head(5)\n",
    "top5_2015"
   ]
  },
  {
   "cell_type": "markdown",
   "id": "3bfbe565",
   "metadata": {},
   "source": [
    "## H-2A Visas Issued by Country FY2016"
   ]
  },
  {
   "cell_type": "code",
   "execution_count": null,
   "id": "3a884915",
   "metadata": {},
   "outputs": [],
   "source": [
    "# Read in 2016\n",
    "df_2016 = pd.read_excel('../data_visasbycountry/FY2016_H2A_by_country_clean.xls')\n",
    "df_2016['Year'] = '2016'\n",
    "df_2016.head()"
   ]
  },
  {
   "cell_type": "code",
   "execution_count": null,
   "id": "d86f17de",
   "metadata": {},
   "outputs": [],
   "source": [
    "# Total H-2A visas issued in 2016\n",
    "total_2016 = df_2016['H-2A'].sum()\n",
    "total_2016"
   ]
  },
  {
   "cell_type": "code",
   "execution_count": null,
   "id": "10e8d900",
   "metadata": {},
   "outputs": [],
   "source": [
    "# Subset 3 columns: Country, H-2A, Total Visas & sort by top 5 countries with most H-2A visas\n",
    "subset_2016 = df_2016[['Country', 'Year', 'H-2A', 'Total Visas']]\n",
    "top5_2016 = subset_2016.sort_values(by=['H-2A'], ascending=False).head(5)\n",
    "top5_2016"
   ]
  },
  {
   "cell_type": "markdown",
   "id": "f3715d22",
   "metadata": {},
   "source": [
    "## H-2A Visas Issued by Country FY2017"
   ]
  },
  {
   "cell_type": "code",
   "execution_count": null,
   "id": "4654c6f1",
   "metadata": {},
   "outputs": [],
   "source": [
    "# Read in 2017\n",
    "df_2017 = pd.read_excel('../data_visasbycountry/FY2017_H2A_by_country_clean.xlsx')\n",
    "df_2017['Year'] = '2017'\n",
    "df_2017.head()"
   ]
  },
  {
   "cell_type": "code",
   "execution_count": null,
   "id": "8bea58c0",
   "metadata": {},
   "outputs": [],
   "source": [
    "# Total H-2A visas issued in 2017\n",
    "total_2017 = df_2017['H-2A'].sum()\n",
    "total_2017"
   ]
  },
  {
   "cell_type": "code",
   "execution_count": null,
   "id": "ef1a42d7",
   "metadata": {},
   "outputs": [],
   "source": [
    "# Subset 3 columns: Country, H-2A, Total Visas & sort by top 5 countries with most H-2A visas\n",
    "subset_2017 = df_2017[['Country', 'Year', 'H-2A', 'Total Visas']]\n",
    "top5_2017 = subset_2017.sort_values(by=['H-2A'], ascending=False).head(5)\n",
    "top5_2017"
   ]
  },
  {
   "cell_type": "markdown",
   "id": "6c17a2ee",
   "metadata": {},
   "source": [
    "## H-2A Visas Issued by Country FY2018"
   ]
  },
  {
   "cell_type": "code",
   "execution_count": null,
   "id": "a9f57523",
   "metadata": {},
   "outputs": [],
   "source": [
    "# Read in 2018\n",
    "df_2018 = pd.read_excel('../data_visasbycountry/FY2018_H2A_by_country_clean.xlsx')\n",
    "df_2018['Year'] = '2018'\n",
    "df_2018.head()"
   ]
  },
  {
   "cell_type": "code",
   "execution_count": null,
   "id": "01668ca6",
   "metadata": {},
   "outputs": [],
   "source": [
    "# Total H-2A visas issued in 2018\n",
    "total_2018 = df_2018['H-2A'].sum()\n",
    "total_2018"
   ]
  },
  {
   "cell_type": "code",
   "execution_count": null,
   "id": "bb1edf9c",
   "metadata": {},
   "outputs": [],
   "source": [
    "# Subset 3 columns: Country, H-2A, Total Visas & sort by top 5 countries with most H-2A visas\n",
    "subset_2018 = df_2018[['Country', 'Year', 'H-2A', 'Total Visas']]\n",
    "top5_2018 = subset_2018.sort_values(by=['H-2A'], ascending=False).head(5)\n",
    "top5_2018"
   ]
  },
  {
   "cell_type": "markdown",
   "id": "0806af5a",
   "metadata": {},
   "source": [
    "## H-2A Visas Issued by Country FY2019"
   ]
  },
  {
   "cell_type": "code",
   "execution_count": null,
   "id": "f1768c2a",
   "metadata": {},
   "outputs": [],
   "source": [
    "# Read in 2019\n",
    "df_2019 = pd.read_excel('../data_visasbycountry/FY2019_H2A_by_country_clean.xlsx')\n",
    "df_2019['Year'] = '2019'\n",
    "df_2019.head()"
   ]
  },
  {
   "cell_type": "code",
   "execution_count": null,
   "id": "61569b3e",
   "metadata": {},
   "outputs": [],
   "source": [
    "# Total H-2A visas issued in 2019\n",
    "total_2019 = df_2019['H-2A'].sum()\n",
    "total_2019"
   ]
  },
  {
   "cell_type": "code",
   "execution_count": null,
   "id": "20cae371",
   "metadata": {},
   "outputs": [],
   "source": [
    "# Subset 3 columns: Country, H-2A, Total Visas & sort by top 5 countries with most H-2A visas\n",
    "subset_2019 = df_2019[['Country', 'Year', 'H-2A', 'Total Visas']]\n",
    "top5_2019 = subset_2019.sort_values(by=['H-2A'], ascending=False).head(5)\n",
    "top5_2019"
   ]
  },
  {
   "cell_type": "markdown",
   "id": "56965623",
   "metadata": {},
   "source": [
    "## H-2A Visas Issued by Country FY2020"
   ]
  },
  {
   "cell_type": "code",
   "execution_count": null,
   "id": "2586495a",
   "metadata": {},
   "outputs": [],
   "source": [
    "# Read in 2020\n",
    "df_2020 = pd.read_excel('../data_visasbycountry/FY2020_H2A_by_country_clean.xlsx')\n",
    "df_2020['Year'] = '2020'\n",
    "df_2020.head()"
   ]
  },
  {
   "cell_type": "code",
   "execution_count": null,
   "id": "58f2f404",
   "metadata": {},
   "outputs": [],
   "source": [
    "# Total H-2A visas issued in 2019\n",
    "total_2020 = df_2020['H-2A'].sum()\n",
    "total_2020"
   ]
  },
  {
   "cell_type": "code",
   "execution_count": null,
   "id": "2c65e2a8",
   "metadata": {},
   "outputs": [],
   "source": [
    "# Subset 3 columns: Country, H-2A, Total Visas & sort by top 5 countries with most H-2A visas\n",
    "subset_2020 = df_2020[['Country', 'Year', 'H-2A', 'Total Visas']]\n",
    "top5_2020 = subset_2020.sort_values(by=['H-2A'], ascending=False).head(5)\n",
    "top5_2020"
   ]
  },
  {
   "cell_type": "markdown",
   "id": "3927784e",
   "metadata": {},
   "source": [
    "## Combine top5 DataFrames for each year into one big DataFrame\n",
    "- Used concat because merge only combines two DataFrames"
   ]
  },
  {
   "cell_type": "code",
   "execution_count": null,
   "id": "7a9e5a3e",
   "metadata": {},
   "outputs": [],
   "source": [
    "top5_all = pd.concat([top5_2010, top5_2011, top5_2012, top5_2013, top5_2014, top5_2015, top5_2016, top5_2017, top5_2018, top5_2019, top5_2020])\n",
    "top5_all.rename({'H-2A': 'H2A'}, axis=1, inplace=True)\n",
    "top5_all.reset_index(inplace=True)\n",
    "top5_all\n",
    "# 55 rows"
   ]
  },
  {
   "cell_type": "code",
   "execution_count": null,
   "id": "1bc0bfd9",
   "metadata": {},
   "outputs": [],
   "source": [
    "four_c = top5_all[(top5_all['Year'].isin(['2010','2011','2012','2013','2014','2015','2016','2017','2018','2019','2020'])) & (top5_all['Country'].isin(['Mexico', 'South Africa', 'Peru', 'Guatemala','Romania','Nicaragua','Honduras','Jamaica']))]\n",
    "four_c = four_c.sort_values([\"Year\"], ascending=[True])\n",
    "plt.figure(figsize=(10, 8))\n",
    "sns.lineplot(data=four_c, x=\"Year\", y=\"H2A\", hue=\"Country\", marker='o', linewidth=2)\n",
    "plt.title('H-2A Visas by Top 5 Countries of Birth, 2010-2020', fontsize=16)\n",
    "plt.xlabel('')\n",
    "plt.ylabel('Number of H-2A Visas Issued', fontsize=14);"
   ]
  },
  {
   "cell_type": "code",
   "execution_count": null,
   "id": "0d125351",
   "metadata": {},
   "outputs": [],
   "source": [
    "# Uh how about without Mexico\n",
    "four_c = top5_all[(top5_all['Year'].isin(['2010','2011','2012','2013','2014','2015','2016','2017','2018','2019','2020'])) & (top5_all['Country'].isin(['South Africa', 'Peru', 'Guatemala','Romania','Nicaragua','Honduras','Jamaica']))]\n",
    "four_c = four_c.sort_values([\"Year\"], ascending=[True])\n",
    "plt.figure(figsize=(10, 8))\n",
    "sns.lineplot(data=four_c, x=\"Year\", y=\"H2A\", hue=\"Country\", marker='o', linewidth=2)\n",
    "plt.title('H-2A Visas by Country of Birth, 2010-2020', fontsize=16)\n",
    "plt.xlabel('')\n",
    "plt.ylabel('Number of H-2A Visas Issued', fontsize=14);"
   ]
  },
  {
   "cell_type": "markdown",
   "id": "c5aecece",
   "metadata": {},
   "source": [
    "Still looks bad. Mexico, South Africa, and Guatemala are the only countries that have data for every year. Romania and Honduras only appear for one year. Nicaragua is missing years in between. Peru doesn't have 2020. Jamaica makes a surprising debut in 2016.<br><br>\n",
    "Let's change the methodology:\n",
    "- Calculate percentage of H-2A visas for each country for that year, for the entire decade\n",
    "- Calculate the average of each country's percentages across the decade\n",
    "- Barplot the top 5 averages, then compare their year by years"
   ]
  },
  {
   "cell_type": "code",
   "execution_count": null,
   "id": "af17abef",
   "metadata": {},
   "outputs": [],
   "source": [
    "# Make a df out of all the years\n",
    "huge_df = pd.concat([df_2010, df_2011, df_2012, df_2013, df_2014, df_2015, df_2016, df_2017, df_2018, df_2019, df_2020])\n",
    "# Stinkin' hyphen\n",
    "huge_df.rename({'H-2A': 'H2A'}, axis=1, inplace=True)"
   ]
  },
  {
   "cell_type": "code",
   "execution_count": null,
   "id": "7077e7d6",
   "metadata": {},
   "outputs": [],
   "source": [
    "# Partition by Country https://stackoverflow.com/questions/35905335/aggregation-over-partition-pandas-dataframe\n",
    "huge_df['avg_visas'] = huge_df.groupby('Country').H2A.transform(np.mean)\n",
    "huge_df.head()"
   ]
  },
  {
   "cell_type": "code",
   "execution_count": null,
   "id": "637e4134",
   "metadata": {},
   "outputs": [],
   "source": [
    "# Subset to desired columns\n",
    "avg_df = huge_df[['Country', 'Year', 'H2A', 'avg_visas']]\n",
    "avg_df = avg_df.sort_values(by=['avg_visas', 'Country'], ascending=False)\n",
    "avg_df[:55]\n",
    "# Top 5 countries of birth by avg number of H-2A visas from 2010-2020"
   ]
  },
  {
   "cell_type": "markdown",
   "id": "2e89bbca",
   "metadata": {},
   "source": [
    "## Top 5 Countries of Birth of H-2A Workers\n",
    "- Mexico, South Africa, Jamaica, Guatemala, Peru"
   ]
  },
  {
   "cell_type": "code",
   "execution_count": null,
   "id": "a6f5e086",
   "metadata": {},
   "outputs": [],
   "source": [
    "avg_total = (total_2010+total_2011+total_2012+total_2013+total_2014+total_2015+total_2016+total_2017+total_2018+total_2019+total_2020)/11\n",
    "avg_total # 123529 (rounded up)"
   ]
  },
  {
   "cell_type": "code",
   "execution_count": null,
   "id": "b748567b",
   "metadata": {},
   "outputs": [],
   "source": [
    "# Mexico\n",
    "mexico_avg = 114436"
   ]
  },
  {
   "cell_type": "code",
   "execution_count": null,
   "id": "151494a8",
   "metadata": {},
   "outputs": [],
   "source": [
    "# South Africa\n",
    "sa_avg = 2465"
   ]
  },
  {
   "cell_type": "code",
   "execution_count": null,
   "id": "05cc671e",
   "metadata": {},
   "outputs": [],
   "source": [
    "# Jamaica\n",
    "jamaica_avg = 2190"
   ]
  },
  {
   "cell_type": "code",
   "execution_count": null,
   "id": "b76c04a7",
   "metadata": {},
   "outputs": [],
   "source": [
    "# Guatemala\n",
    "guatemala_avg = 1779"
   ]
  },
  {
   "cell_type": "code",
   "execution_count": null,
   "id": "80930e7b",
   "metadata": {},
   "outputs": [],
   "source": [
    "# Peru\n",
    "peru_avg = 868"
   ]
  },
  {
   "cell_type": "code",
   "execution_count": null,
   "id": "24f803b7",
   "metadata": {},
   "outputs": [],
   "source": [
    "msjgp = ['Mexico','South Africa','Jamaica','Guatemala','Peru']\n",
    "msjgp_perc = [mexico_avg, sa_avg, jamaica_avg, guatemala_avg, peru_avg]\n",
    "top5_avgs = pd.DataFrame(list(zip(msjgp, msjgp_perc)))\n",
    "top5_avgs.rename({0:'Country', 1:'Avg_Num_H2A'}, axis=1, inplace=True)\n",
    "top5_avgs"
   ]
  },
  {
   "cell_type": "code",
   "execution_count": null,
   "id": "ed5ec1e0",
   "metadata": {},
   "outputs": [],
   "source": [
    "plt.figure(figsize=(14, 10))\n",
    "sns.set(style=\"whitegrid\")\n",
    "sns.set(font_scale=1.5)\n",
    "ax = sns.barplot(data=top5_avgs, x=\"Country\", y=\"Avg_Num_H2A\")\n",
    "ax.bar_label(ax.containers[0])\n",
    "plt.title('Where are H-2A workers from?', fontsize=22)\n",
    "plt.xlabel('')\n",
    "plt.ylabel('Average number of H-2A visas issued (2010-2020)', fontsize=16);"
   ]
  }
 ],
 "metadata": {
  "kernelspec": {
   "display_name": "Python 3 (ipykernel)",
   "language": "python",
   "name": "python3"
  },
  "language_info": {
   "codemirror_mode": {
    "name": "ipython",
    "version": 3
   },
   "file_extension": ".py",
   "mimetype": "text/x-python",
   "name": "python",
   "nbconvert_exporter": "python",
   "pygments_lexer": "ipython3",
   "version": "3.9.7"
  }
 },
 "nbformat": 4,
 "nbformat_minor": 5
}
